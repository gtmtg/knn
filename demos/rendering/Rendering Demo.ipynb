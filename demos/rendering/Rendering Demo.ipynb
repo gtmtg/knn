{
 "cells": [
  {
   "cell_type": "markdown",
   "metadata": {},
   "source": [
    "# Load Video"
   ]
  },
  {
   "cell_type": "code",
   "execution_count": 10,
   "metadata": {},
   "outputs": [],
   "source": [
    "HEIGHT = 360\n",
    "WIDTH = 640\n",
    "FRAMERATE = 24\n",
    "INPUT_PATH = \"/Users/mihir/Downloads/in.mov\"\n",
    "OUTPUT_PATH = \"/Users/mihir/Downloads/out.mov\"\n",
    "MAPPER_ENDPOINT = \"\""
   ]
  },
  {
   "cell_type": "code",
   "execution_count": 11,
   "metadata": {},
   "outputs": [],
   "source": [
    "import ffmpeg\n",
    "import numpy as np\n",
    "\n",
    "out, _ = (\n",
    "    ffmpeg\n",
    "    .input(INPUT_PATH)\n",
    "    .output('pipe:', format='rawvideo', pix_fmt='rgb24')\n",
    "    .run(capture_stdout=True)\n",
    ")\n",
    "video = (\n",
    "    np\n",
    "    .frombuffer(out, np.uint8)\n",
    "    .reshape([-1, HEIGHT, WIDTH, 3])\n",
    ")"
   ]
  },
  {
   "cell_type": "code",
   "execution_count": 12,
   "metadata": {
    "scrolled": true
   },
   "outputs": [
    {
     "name": "stdout",
     "output_type": "stream",
     "text": [
      "(769, 360, 640, 3)\n"
     ]
    }
   ],
   "source": [
    "print(video.shape)"
   ]
  },
  {
   "cell_type": "markdown",
   "metadata": {},
   "source": [
    "# Define Reducer"
   ]
  },
  {
   "cell_type": "code",
   "execution_count": 13,
   "metadata": {},
   "outputs": [],
   "source": [
    "from knn import utils\n",
    "from knn.reducers import Reducer\n",
    "\n",
    "class VideoReducer(Reducer):\n",
    "    def __init__(self, num_frames):\n",
    "        self.frames = [None] * num_frames\n",
    "    \n",
    "    def handle_result(self, input, output):\n",
    "        self.frames[input[\"frame_id\"]] = utils.base64_to_numpy(output)\n",
    "\n",
    "    @property\n",
    "    def result(self):\n",
    "        process = (\n",
    "            ffmpeg\n",
    "                .input('pipe:', format='rawvideo', pix_fmt='rgb24', s='{}x{}'.format(WIDTH, HEIGHT))\n",
    "                .output('out.mp4', pix_fmt='yuv420p', vcodec='libx264', r=FRAMERATE)\n",
    "                .overwrite_output()\n",
    "                .run_async(pipe_stdin=True)\n",
    "        )\n",
    "        for frame in self.frames:\n",
    "            if frame is not None:\n",
    "                process.stdin.write(\n",
    "                    frame\n",
    "                        .astype(np.uint8)\n",
    "                        .tobytes()\n",
    "                )"
   ]
  },
  {
   "cell_type": "markdown",
   "metadata": {},
   "source": [
    "# Perform Rendering"
   ]
  },
  {
   "cell_type": "code",
   "execution_count": null,
   "metadata": {},
   "outputs": [],
   "source": [
    "from knn.jobs import MapReduceJob\n",
    "\n",
    "iterable = [{\"frame_id\": i, \"frame\": utils.numpy_to_base64(frame)}\n",
    "            for i, frame in enumerate(video)]\n",
    "\n",
    "job = MapReduceJob(\n",
    "    MAPPER_ENDPOINT,\n",
    "    VideoReducer(),\n",
    "    {},\n",
    "    n_mappers=1000,\n",
    "    chunk_size=1,\n",
    ")\n",
    "output_path = await job.run_until_complete(iterable)"
   ]
  },
  {
   "cell_type": "code",
   "execution_count": null,
   "metadata": {},
   "outputs": [],
   "source": [
    "print(output_path)"
   ]
  }
 ],
 "metadata": {
  "kernelspec": {
   "display_name": "Python 3",
   "language": "python",
   "name": "python3"
  },
  "language_info": {
   "codemirror_mode": {
    "name": "ipython",
    "version": 3
   },
   "file_extension": ".py",
   "mimetype": "text/x-python",
   "name": "python",
   "nbconvert_exporter": "python",
   "pygments_lexer": "ipython3",
   "version": "3.7.7"
  }
 },
 "nbformat": 4,
 "nbformat_minor": 2
}
